{
 "cells": [
  {
   "cell_type": "code",
   "execution_count": 3,
   "id": "seeing-expert",
   "metadata": {},
   "outputs": [
    {
     "name": "stdout",
     "output_type": "stream",
     "text": [
      "Requirement already satisfied: pip in /Library/Frameworks/Python.framework/Versions/3.9/lib/python3.9/site-packages (21.0)\n",
      "Collecting pip\n",
      "  Using cached pip-21.0.1-py3-none-any.whl (1.5 MB)\n",
      "Installing collected packages: pip\n",
      "  Attempting uninstall: pip\n",
      "    Found existing installation: pip 21.0\n",
      "    Uninstalling pip-21.0:\n",
      "      Successfully uninstalled pip-21.0\n",
      "Successfully installed pip-21.0.1\n"
     ]
    }
   ],
   "source": [
    "! /Library/Frameworks/Python.framework/Versions/3.9/bin/python3.9 -m pip install --upgrade pip"
   ]
  },
  {
   "cell_type": "code",
   "execution_count": 10,
   "id": "altered-ceremony",
   "metadata": {},
   "outputs": [
    {
     "name": "stdout",
     "output_type": "stream",
     "text": [
      "Requirement already satisfied: qiskit in /Library/Frameworks/Python.framework/Versions/3.9/lib/python3.9/site-packages (0.16.1)\n",
      "Requirement already satisfied: qiskit-aer==0.4.1 in /Library/Frameworks/Python.framework/Versions/3.9/lib/python3.9/site-packages (from qiskit) (0.4.1)\n",
      "Requirement already satisfied: qiskit-ignis==0.2.0 in /Library/Frameworks/Python.framework/Versions/3.9/lib/python3.9/site-packages (from qiskit) (0.2.0)\n",
      "Requirement already satisfied: qiskit-ibmq-provider==0.5.0 in /Library/Frameworks/Python.framework/Versions/3.9/lib/python3.9/site-packages (from qiskit) (0.5.0)\n",
      "Requirement already satisfied: qiskit-terra==0.12.0 in /Library/Frameworks/Python.framework/Versions/3.9/lib/python3.9/site-packages (from qiskit) (0.12.0)\n",
      "Requirement already satisfied: qiskit-aqua==0.6.4 in /Library/Frameworks/Python.framework/Versions/3.9/lib/python3.9/site-packages (from qiskit) (0.6.4)\n",
      "Requirement already satisfied: numpy>=1.16.3 in /Library/Frameworks/Python.framework/Versions/3.9/lib/python3.9/site-packages (from qiskit-aer==0.4.1->qiskit) (1.19.4)\n",
      "Requirement already satisfied: pybind11>=2.4 in /Library/Frameworks/Python.framework/Versions/3.9/lib/python3.9/site-packages (from qiskit-aer==0.4.1->qiskit) (2.6.2)\n",
      "Requirement already satisfied: scipy>=1.0 in /Library/Frameworks/Python.framework/Versions/3.9/lib/python3.9/site-packages (from qiskit-aer==0.4.1->qiskit) (1.6.1)\n",
      "Requirement already satisfied: cython>=0.27.1 in /Library/Frameworks/Python.framework/Versions/3.9/lib/python3.9/site-packages (from qiskit-aer==0.4.1->qiskit) (0.29.22)\n",
      "Requirement already satisfied: sympy>=1.3 in /Library/Frameworks/Python.framework/Versions/3.9/lib/python3.9/site-packages (from qiskit-aqua==0.6.4->qiskit) (1.7.1)\n",
      "Requirement already satisfied: dlx in /Library/Frameworks/Python.framework/Versions/3.9/lib/python3.9/site-packages (from qiskit-aqua==0.6.4->qiskit) (1.0.4)\n",
      "Requirement already satisfied: scikit-learn>=0.20.0 in /Library/Frameworks/Python.framework/Versions/3.9/lib/python3.9/site-packages (from qiskit-aqua==0.6.4->qiskit) (0.24.1)\n",
      "Requirement already satisfied: cvxopt in /Library/Frameworks/Python.framework/Versions/3.9/lib/python3.9/site-packages (from qiskit-aqua==0.6.4->qiskit) (1.2.6)\n",
      "Requirement already satisfied: psutil>=5 in /Library/Frameworks/Python.framework/Versions/3.9/lib/python3.9/site-packages (from qiskit-aqua==0.6.4->qiskit) (5.8.0)\n",
      "Requirement already satisfied: fastdtw in /Library/Frameworks/Python.framework/Versions/3.9/lib/python3.9/site-packages (from qiskit-aqua==0.6.4->qiskit) (0.3.4)\n",
      "Requirement already satisfied: h5py in /Library/Frameworks/Python.framework/Versions/3.9/lib/python3.9/site-packages (from qiskit-aqua==0.6.4->qiskit) (3.1.0)\n",
      "Requirement already satisfied: networkx>=2.2 in /Library/Frameworks/Python.framework/Versions/3.9/lib/python3.9/site-packages (from qiskit-aqua==0.6.4->qiskit) (2.5.1)\n",
      "Requirement already satisfied: jsonschema>=2.6 in /Library/Frameworks/Python.framework/Versions/3.9/lib/python3.9/site-packages (from qiskit-aqua==0.6.4->qiskit) (3.2.0)\n",
      "Requirement already satisfied: quandl in /Library/Frameworks/Python.framework/Versions/3.9/lib/python3.9/site-packages (from qiskit-aqua==0.6.4->qiskit) (3.6.0)\n",
      "Requirement already satisfied: docplex in /Library/Frameworks/Python.framework/Versions/3.9/lib/python3.9/site-packages (from qiskit-aqua==0.6.4->qiskit) (2.15.194)\n",
      "Requirement already satisfied: setuptools>=40.1.0 in /Library/Frameworks/Python.framework/Versions/3.9/lib/python3.9/site-packages (from qiskit-aqua==0.6.4->qiskit) (49.2.1)\n",
      "Requirement already satisfied: requests>=2.19 in /Library/Frameworks/Python.framework/Versions/3.9/lib/python3.9/site-packages (from qiskit-ibmq-provider==0.5.0->qiskit) (2.25.1)\n",
      "Requirement already satisfied: websockets<8,>=7 in /Library/Frameworks/Python.framework/Versions/3.9/lib/python3.9/site-packages (from qiskit-ibmq-provider==0.5.0->qiskit) (7.0)\n",
      "Requirement already satisfied: nest-asyncio!=1.1.0,>=1.0.0 in /Library/Frameworks/Python.framework/Versions/3.9/lib/python3.9/site-packages (from qiskit-ibmq-provider==0.5.0->qiskit) (1.5.1)\n",
      "Requirement already satisfied: requests-ntlm>=1.1.0 in /Library/Frameworks/Python.framework/Versions/3.9/lib/python3.9/site-packages (from qiskit-ibmq-provider==0.5.0->qiskit) (1.1.0)\n",
      "Requirement already satisfied: arrow>=0.15.5 in /Library/Frameworks/Python.framework/Versions/3.9/lib/python3.9/site-packages (from qiskit-ibmq-provider==0.5.0->qiskit) (1.0.3)\n",
      "Requirement already satisfied: dill>=0.3 in /Library/Frameworks/Python.framework/Versions/3.9/lib/python3.9/site-packages (from qiskit-terra==0.12.0->qiskit) (0.3.3)\n",
      "Requirement already satisfied: marshmallow<4,>=3 in /Library/Frameworks/Python.framework/Versions/3.9/lib/python3.9/site-packages (from qiskit-terra==0.12.0->qiskit) (3.11.1)\n",
      "Requirement already satisfied: ply>=3.10 in /Library/Frameworks/Python.framework/Versions/3.9/lib/python3.9/site-packages (from qiskit-terra==0.12.0->qiskit) (3.11)\n",
      "Requirement already satisfied: marshmallow-polyfield<6,>=5.7 in /Library/Frameworks/Python.framework/Versions/3.9/lib/python3.9/site-packages (from qiskit-terra==0.12.0->qiskit) (5.10)\n",
      "Requirement already satisfied: python-dateutil>=2.7.0 in /Library/Frameworks/Python.framework/Versions/3.9/lib/python3.9/site-packages (from arrow>=0.15.5->qiskit-ibmq-provider==0.5.0->qiskit) (2.8.1)\n",
      "Requirement already satisfied: six>=1.11.0 in /Library/Frameworks/Python.framework/Versions/3.9/lib/python3.9/site-packages (from jsonschema>=2.6->qiskit-aqua==0.6.4->qiskit) (1.15.0)\n",
      "Requirement already satisfied: attrs>=17.4.0 in /Library/Frameworks/Python.framework/Versions/3.9/lib/python3.9/site-packages (from jsonschema>=2.6->qiskit-aqua==0.6.4->qiskit) (20.3.0)\n",
      "Requirement already satisfied: pyrsistent>=0.14.0 in /Library/Frameworks/Python.framework/Versions/3.9/lib/python3.9/site-packages (from jsonschema>=2.6->qiskit-aqua==0.6.4->qiskit) (0.17.3)\n",
      "Requirement already satisfied: decorator<5,>=4.3 in /Library/Frameworks/Python.framework/Versions/3.9/lib/python3.9/site-packages (from networkx>=2.2->qiskit-aqua==0.6.4->qiskit) (4.4.2)\n",
      "Requirement already satisfied: certifi>=2017.4.17 in /Library/Frameworks/Python.framework/Versions/3.9/lib/python3.9/site-packages (from requests>=2.19->qiskit-ibmq-provider==0.5.0->qiskit) (2020.12.5)\n",
      "Requirement already satisfied: chardet<5,>=3.0.2 in /Library/Frameworks/Python.framework/Versions/3.9/lib/python3.9/site-packages (from requests>=2.19->qiskit-ibmq-provider==0.5.0->qiskit) (4.0.0)\n",
      "Requirement already satisfied: urllib3<1.27,>=1.21.1 in /Library/Frameworks/Python.framework/Versions/3.9/lib/python3.9/site-packages (from requests>=2.19->qiskit-ibmq-provider==0.5.0->qiskit) (1.26.3)\n",
      "Requirement already satisfied: idna<3,>=2.5 in /Library/Frameworks/Python.framework/Versions/3.9/lib/python3.9/site-packages (from requests>=2.19->qiskit-ibmq-provider==0.5.0->qiskit) (2.10)\n",
      "Requirement already satisfied: cryptography>=1.3 in /Library/Frameworks/Python.framework/Versions/3.9/lib/python3.9/site-packages (from requests-ntlm>=1.1.0->qiskit-ibmq-provider==0.5.0->qiskit) (3.4.7)\n",
      "Requirement already satisfied: ntlm-auth>=1.0.2 in /Library/Frameworks/Python.framework/Versions/3.9/lib/python3.9/site-packages (from requests-ntlm>=1.1.0->qiskit-ibmq-provider==0.5.0->qiskit) (1.5.0)\n",
      "Requirement already satisfied: cffi>=1.12 in /Library/Frameworks/Python.framework/Versions/3.9/lib/python3.9/site-packages (from cryptography>=1.3->requests-ntlm>=1.1.0->qiskit-ibmq-provider==0.5.0->qiskit) (1.14.4)\n",
      "Requirement already satisfied: pycparser in /Library/Frameworks/Python.framework/Versions/3.9/lib/python3.9/site-packages (from cffi>=1.12->cryptography>=1.3->requests-ntlm>=1.1.0->qiskit-ibmq-provider==0.5.0->qiskit) (2.20)\n",
      "Requirement already satisfied: threadpoolctl>=2.0.0 in /Library/Frameworks/Python.framework/Versions/3.9/lib/python3.9/site-packages (from scikit-learn>=0.20.0->qiskit-aqua==0.6.4->qiskit) (2.1.0)\n",
      "Requirement already satisfied: joblib>=0.11 in /Library/Frameworks/Python.framework/Versions/3.9/lib/python3.9/site-packages (from scikit-learn>=0.20.0->qiskit-aqua==0.6.4->qiskit) (1.0.1)\n",
      "Requirement already satisfied: mpmath>=0.19 in /Library/Frameworks/Python.framework/Versions/3.9/lib/python3.9/site-packages (from sympy>=1.3->qiskit-aqua==0.6.4->qiskit) (1.2.1)\n"
     ]
    },
    {
     "name": "stdout",
     "output_type": "stream",
     "text": [
      "Requirement already satisfied: more-itertools in /Library/Frameworks/Python.framework/Versions/3.9/lib/python3.9/site-packages (from quandl->qiskit-aqua==0.6.4->qiskit) (8.7.0)\r\n",
      "Requirement already satisfied: pandas>=0.14 in /Library/Frameworks/Python.framework/Versions/3.9/lib/python3.9/site-packages (from quandl->qiskit-aqua==0.6.4->qiskit) (1.1.4)\r\n",
      "Requirement already satisfied: inflection>=0.3.1 in /Library/Frameworks/Python.framework/Versions/3.9/lib/python3.9/site-packages (from quandl->qiskit-aqua==0.6.4->qiskit) (0.5.1)\r\n",
      "Requirement already satisfied: pytz>=2017.2 in /Library/Frameworks/Python.framework/Versions/3.9/lib/python3.9/site-packages (from pandas>=0.14->quandl->qiskit-aqua==0.6.4->qiskit) (2020.4)\r\n"
     ]
    }
   ],
   "source": [
    "! pip3 install qiskit"
   ]
  },
  {
   "cell_type": "code",
   "execution_count": 20,
   "id": "biological-pitch",
   "metadata": {},
   "outputs": [
    {
     "name": "stdout",
     "output_type": "stream",
     "text": [
      "zsh:1: no matches found: qiskit-terra[visualization]\r\n"
     ]
    }
   ],
   "source": [
    "! pip3 install qiskit-terra[visualization]"
   ]
  },
  {
   "cell_type": "code",
   "execution_count": 19,
   "id": "valued-rover",
   "metadata": {},
   "outputs": [
    {
     "name": "stdout",
     "output_type": "stream",
     "text": [
      "Requirement already satisfied: matplotlib in /Library/Frameworks/Python.framework/Versions/3.9/lib/python3.9/site-packages (3.4.1)\n",
      "Requirement already satisfied: python-dateutil>=2.7 in /Library/Frameworks/Python.framework/Versions/3.9/lib/python3.9/site-packages (from matplotlib) (2.8.1)\n",
      "Requirement already satisfied: numpy>=1.16 in /Library/Frameworks/Python.framework/Versions/3.9/lib/python3.9/site-packages (from matplotlib) (1.19.4)\n",
      "Requirement already satisfied: kiwisolver>=1.0.1 in /Library/Frameworks/Python.framework/Versions/3.9/lib/python3.9/site-packages (from matplotlib) (1.3.1)\n",
      "Requirement already satisfied: pillow>=6.2.0 in /Library/Frameworks/Python.framework/Versions/3.9/lib/python3.9/site-packages (from matplotlib) (8.2.0)\n",
      "Requirement already satisfied: cycler>=0.10 in /Library/Frameworks/Python.framework/Versions/3.9/lib/python3.9/site-packages (from matplotlib) (0.10.0)\n",
      "Requirement already satisfied: pyparsing>=2.2.1 in /Library/Frameworks/Python.framework/Versions/3.9/lib/python3.9/site-packages (from matplotlib) (2.4.7)\n",
      "Requirement already satisfied: six in /Library/Frameworks/Python.framework/Versions/3.9/lib/python3.9/site-packages (from cycler>=0.10->matplotlib) (1.15.0)\n",
      "Requirement already satisfied: pylatexenc in /Library/Frameworks/Python.framework/Versions/3.9/lib/python3.9/site-packages (2.10)\n"
     ]
    }
   ],
   "source": [
    "! pip3 install matplotlib\n",
    "! pip3 install pylatexenc"
   ]
  },
  {
   "cell_type": "code",
   "execution_count": 2,
   "id": "deluxe-jefferson",
   "metadata": {},
   "outputs": [],
   "source": [
    "import numpy as np\n",
    "import pandas as pd\n",
    "import math\n",
    "import pylatexenc\n",
    "import matplotlib.pyplot as plt\n",
    "import qiskit as q\n",
    "from qiskit import Aer, QuantumCircuit, QuantumRegister, ClassicalRegister, execute, assemble\n",
    "from qiskit.quantum_info import Statevector\n",
    "from qiskit.visualization import plot_histogram\n",
    "\n",
    "%matplotlib inline"
   ]
  },
  {
   "cell_type": "markdown",
   "id": "productive-microphone",
   "metadata": {},
   "source": [
    "# Weapons Playground\n",
    "\n",
    "This is a document meant to test weapon mechanics as it applies to the implementation of the quantum circuit(or circuits). Try not to split one weapon test into too many blocks unless the quantum state and circuit need to be checked at multiple points. This just helps to avoid clutter and better separate each individual mechanic or weapon. Labels at the top of each test will help as well.\n",
    "\n",
    "Initial thoughts:\n",
    "\n",
    "    - so far, quantum circuit can only be run once it is completely constructed\n",
    "    - game loop will most likely build the circuit and results will be shown when it is run at the end\n",
    "    \n"
   ]
  },
  {
   "cell_type": "markdown",
   "id": "comparable-checkout",
   "metadata": {},
   "source": [
    "## Adding X gate to circuit at runtime\n",
    "\n",
    "using an extremely simplified game loop\n",
    "\n",
    "The goal of the X-gate is basically to make the two entangled cubits disagree as much as possible (i.e. having |01> or |10> corresponts to a point of damage because the qubits disagree and a |00> and |11> state correspont to a point of health because the qubits agree)\n",
    "\n",
    "current questions:\n",
    "\n",
    "    - execution doesn't seem to work (fixed: method was result() not results())\n",
    "    \n",
    "notes:\n",
    "\n",
    "    - adding one CX gate practically halves the health of the opposing player\n",
    "    - so it turns out a simple X gate is basically a tacticle nuke\n",
    "    "
   ]
  },
  {
   "cell_type": "code",
   "execution_count": 4,
   "id": "waiting-murder",
   "metadata": {},
   "outputs": [
    {
     "name": "stdout",
     "output_type": "stream",
     "text": [
      "kill or no?: no\n",
      "kill or no?: no\n",
      "kill or no?: no\n",
      "kill or no?: no\n",
      "kill or no?: no\n",
      "513\n"
     ]
    },
    {
     "data": {
      "image/png": "[encoded data removed]",
      "text/plain": [
       "<Figure size 504x360 with 1 Axes>"
      ]
     },
     "execution_count": 4,
     "metadata": {},
     "output_type": "execute_result"
    }
   ],
   "source": [
    "def MakeBellPair(qc, bit1, bit2):\n",
    "    qc.h(bit1)\n",
    "    qc.cx(bit1, bit2)\n",
    "\n",
    "#create turn iterator and backend\n",
    "turns = 0\n",
    "\n",
    "backend = Aer.get_backend('qasm_simulator')\n",
    "\n",
    "#create quantum circut and classical register\n",
    "shipQc = QuantumCircuit(2)\n",
    "classReg = ClassicalRegister(1)\n",
    "\n",
    "MakeBellPair(shipQc, 0, 1)\n",
    "\n",
    "# simple game loop\n",
    "while turns < 5:\n",
    "    choice = input(\"kill or no?: \")\n",
    "    if choice == \"kill\":\n",
    "        shipQc.cx(0, 1)\n",
    "    \n",
    "    turns += 1\n",
    "        \n",
    "shipQc.measure_all()\n",
    "        \n",
    "# shipQc.draw()\n",
    "\n",
    "statusResult = execute(shipQc, backend=backend, shots=1000).result()\n",
    "shipStatus = statusResult.get_counts()\n",
    "plot_histogram(shipStatus)"
   ]
  },
  {
   "cell_type": "code",
   "execution_count": null,
   "id": "focused-schema",
   "metadata": {},
   "outputs": [],
   "source": []
  }
 ],
 "metadata": {
  "kernelspec": {
   "display_name": "Python 3",
   "language": "python",
   "name": "python3"
  },
  "language_info": {
   "codemirror_mode": {
    "name": "ipython",
    "version": 3
   },
   "file_extension": ".py",
   "mimetype": "text/x-python",
   "name": "python",
   "nbconvert_exporter": "python",
   "pygments_lexer": "ipython3",
   "version": "3.9.0"
  }
 },
 "nbformat": 4,
 "nbformat_minor": 5
}
